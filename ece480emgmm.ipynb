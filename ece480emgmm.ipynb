{
 "cells": [
  {
   "cell_type": "code",
   "execution_count": 8,
   "metadata": {
    "collapsed": true
   },
   "outputs": [],
   "source": [
    "import pandas as pd\n",
    "import numpy as np\n",
    "from matplotlib import pyplot as plt\n",
    "from sklearn.cluster import KMeans\n",
    "from scipy.stats import multivariate_normal\n",
    "import seaborn as sns\n",
    "from sklearn.mixture import GaussianMixture\n",
    "from sklearn.metrics import confusion_matrix\n",
    "%matplotlib inline"
   ]
  },
  {
   "cell_type": "code",
   "execution_count": 11,
   "outputs": [],
   "source": [
    "# Read in initial dataframe, create df2, dictionary of blocks\n",
    "df_train = pd.read_csv(\"Train_Arabic_Digit.csv\", header = None)\n",
    "df_train[\"block\"] = df_train.isnull().all(axis=1).cumsum()\n",
    "\n",
    "df_test = pd.read_csv(\"Test_Arabic_Digit.csv\", header = None)\n",
    "df_test[\"block\"] = df_test.isnull().all(axis=1).cumsum()\n",
    "\n",
    "df2_train = {i: df_train.loc[df_train.block == i, df_train.columns.drop('block')].dropna()\n",
    "       for i in range(0, df_train.block.iat[-1])}\n",
    "\n",
    "# Create df3, a dictionary of concatenated blocks by digit\n",
    "df_train[\"block\"] = np.floor(df_train[\"block\"] / 660)\n",
    "df3_train = {i: df_train.loc[df_train.block == i, df_train.columns.drop('block')].dropna()\n",
    "       for i in range(10)}\n",
    "\n",
    "# Create a dataset of just the first, second cepstral coefs for efficiency\n",
    "# [0, 1, 2, 3, 4, 5, 6, 7, 8, 9, 10, 'block']\n",
    "df_cut_train = df_train.dropna()\n",
    "df_cut_train = {i: df_cut_train.loc[df_cut_train.block == i, df_cut_train.columns.drop('block')]\n",
    "       for i in range(10)}\n",
    "\n",
    "# [0, 1, 2, 3, 4, 5, 6, 7, 8, 9, 10, 'block']\n",
    "# df_test['block'] = np.floor(df_test['block'] / 220)\n",
    "df_cut_test = df_test.dropna()\n",
    "df_cut_test = {i: df_cut_test.loc[df_cut_test.block == i, df_cut_test.columns.drop('block')]\n",
    "       for i in range(0, df_cut_test.block.iat[-1])}"
   ],
   "metadata": {
    "collapsed": false,
    "pycharm": {
     "name": "#%%\n"
    }
   }
  },
  {
   "cell_type": "code",
   "execution_count": null,
   "outputs": [],
   "source": [
    "gm0 = GaussianMixture(n_components=5).fit(df_cut_train[0])"
   ],
   "metadata": {
    "collapsed": false,
    "pycharm": {
     "name": "#%%\n"
    }
   }
  },
  {
   "cell_type": "code",
   "execution_count": null,
   "outputs": [],
   "source": [
    "gm0.score(df_cut_test[210])"
   ],
   "metadata": {
    "collapsed": false,
    "pycharm": {
     "name": "#%%\n"
    }
   }
  },
  {
   "cell_type": "code",
   "execution_count": null,
   "outputs": [],
   "source": [
    "gmms = []\n",
    "for i in range(10):\n",
    "    gmm = GaussianMixture(n_components=8, covariance_type='diag').fit(df_cut_train[i])\n",
    "    gmms.append(gmm)"
   ],
   "metadata": {
    "collapsed": false,
    "pycharm": {
     "name": "#%%\n"
    }
   }
  },
  {
   "cell_type": "code",
   "execution_count": null,
   "outputs": [],
   "source": [
    "predictions = []\n",
    "for i in range(2199):\n",
    "    max_score = -10000\n",
    "    max_GMM = -1\n",
    "    for gmm_num in range(len(gmms)):\n",
    "        score = gmms[gmm_num].score(df_cut_test[i])\n",
    "        if score > max_score:\n",
    "            max_GMM = gmm_num\n",
    "            max_score = score\n",
    "    predictions.append(max_GMM)"
   ],
   "metadata": {
    "collapsed": false,
    "pycharm": {
     "name": "#%%\n"
    }
   }
  },
  {
   "cell_type": "code",
   "execution_count": null,
   "outputs": [],
   "source": [
    "correct = 0\n",
    "wrongs = np.zeros(len(predictions))\n",
    "wrongs = wrongs - 1\n",
    "for i in range(len(predictions)):\n",
    "    if predictions[i] == np.floor(i / 220):\n",
    "        correct += 1\n",
    "        wrongs[i] = predictions[i]\n",
    "\n",
    "correct / 2199"
   ],
   "metadata": {
    "collapsed": false,
    "pycharm": {
     "name": "#%%\n"
    }
   }
  },
  {
   "cell_type": "code",
   "execution_count": null,
   "outputs": [],
   "source": [
    "labels = []\n",
    "for i in range(2199):\n",
    "    labels.append(int(i/220))\n",
    "\n",
    "cm = pd.DataFrame(confusion_matrix(labels, predictions))\n",
    "sns.heatmap(cm, annot=True, fmt='g')\n",
    "plt.title('Confusion Matrix for EM Gaussian Mixture Model Classification')\n",
    "plt.ylabel('True Label')\n",
    "plt.xlabel('Predicted Label')\n",
    "\n",
    "plt.savefig(\"em_confusion_matrix.png\", dpi=300)"
   ],
   "metadata": {
    "collapsed": false,
    "pycharm": {
     "name": "#%%\n"
    }
   }
  }
 ],
 "metadata": {
  "kernelspec": {
   "name": "pycharm-a81ba547",
   "language": "python",
   "display_name": "PyCharm (pythonProject)"
  },
  "language_info": {
   "codemirror_mode": {
    "name": "ipython",
    "version": 2
   },
   "file_extension": ".py",
   "mimetype": "text/x-python",
   "name": "python",
   "nbconvert_exporter": "python",
   "pygments_lexer": "ipython2",
   "version": "2.7.6"
  }
 },
 "nbformat": 4,
 "nbformat_minor": 0
}