{
 "cells": [
  {
   "cell_type": "code",
   "execution_count": 11,
   "metadata": {
    "collapsed": true
   },
   "outputs": [],
   "source": [
    "import pandas as pd\n",
    "import numpy as np\n",
    "from matplotlib import pyplot as plt\n",
    "from sklearn.cluster import KMeans\n",
    "from scipy.stats import multivariate_normal\n",
    "import seaborn as sns\n",
    "from sklearn.mixture import GaussianMixture\n",
    "from sklearn.metrics import confusion_matrix\n",
    "%matplotlib inline"
   ]
  },
  {
   "cell_type": "code",
   "execution_count": 12,
   "outputs": [],
   "source": [
    "df_train = pd.read_csv(\"Train_Arabic_Digit.csv\", header = None)\n",
    "df_train[\"block\"] = df_train.isnull().all(axis=1).cumsum()\n",
    "\n",
    "df_test = pd.read_csv(\"Test_Arabic_Digit.csv\", header = None)\n",
    "df_test[\"block\"] = df_test.isnull().all(axis=1).cumsum()\n",
    "\n",
    "df2_train = {i: df_train.loc[df_train.block == i, df_train.columns.drop('block')].dropna()\n",
    "       for i in range(0, df_train.block.iat[-1])}\n",
    "\n",
    "# Create df3, a dictionary of concatenated blocks by digit\n",
    "df_train[\"block\"] = np.floor(df_train[\"block\"] / 660)\n",
    "df3_train = {i: df_train.loc[df_train.block == i, df_train.columns.drop('block')].dropna()\n",
    "       for i in range(10)}\n",
    "\n",
    "# [0, 1, 2, 3, 4, 5, 6, 7, 8, 9, 10, 'block']\n",
    "# df_test['block'] = np.floor(df_test['block'] / 220)\n",
    "df_cut_test = df_test.dropna()\n",
    "df_cut_test = {i: df_cut_test.loc[df_cut_test.block == i, df_cut_test.columns.drop('block')]\n",
    "       for i in range(0, df_cut_test.block.iat[-1])}"
   ],
   "metadata": {
    "collapsed": false,
    "pycharm": {
     "name": "#%%\n"
    }
   }
  },
  {
   "cell_type": "code",
   "execution_count": 13,
   "outputs": [],
   "source": [
    "df_test_time = df_cut_test\n",
    "for num in range(2199):\n",
    "    df_test_time[num][13] = \"\"\n",
    "    # print(num)\n",
    "    for i in range(df_test_time[num].shape[0]):\n",
    "        # print(\"hi\")\n",
    "        df_test_time[num].iloc[i, 13] = 3 * float(i) / df_test_time[num].shape[0]\n"
   ],
   "metadata": {
    "collapsed": false,
    "pycharm": {
     "name": "#%%\n"
    }
   }
  },
  {
   "cell_type": "code",
   "execution_count": 14,
   "outputs": [],
   "source": [
    "for digit in range(6599):\n",
    "    df2_train[digit][13] = \"\"\n",
    "    for i in range(df2_train[digit].shape[0]):\n",
    "        df2_train[digit].iloc[i, 13] = 3 * float(i) / df2_train[digit].shape[0]"
   ],
   "metadata": {
    "collapsed": false,
    "pycharm": {
     "name": "#%%\n"
    }
   }
  },
  {
   "cell_type": "code",
   "execution_count": 15,
   "outputs": [
    {
     "name": "stdout",
     "output_type": "stream",
     "text": [
      "hi\n",
      "hi\n",
      "hi\n",
      "hi\n",
      "hi\n",
      "hi\n",
      "hi\n",
      "hi\n",
      "hi\n",
      "hi\n"
     ]
    }
   ],
   "source": [
    "df2_blocked = {}\n",
    "for digit in range(10):\n",
    "    print(\"hi\")\n",
    "    df2_blocked[digit] = pd.DataFrame(columns=df2_train[digit].columns)\n",
    "    if digit == 9:\n",
    "        for i in range(659):\n",
    "            df2_blocked[digit] = pd.concat([df2_blocked[digit], df2_train[i + digit * 660]])\n",
    "    else:\n",
    "        for i in range(660):\n",
    "            df2_blocked[digit] = pd.concat([df2_blocked[digit], df2_train[i + digit * 660]])"
   ],
   "metadata": {
    "collapsed": false,
    "pycharm": {
     "name": "#%%\n"
    }
   }
  },
  {
   "cell_type": "code",
   "execution_count": null,
   "outputs": [],
   "source": [
    "df2_genderblocked = {}\n",
    "for digit in range(10):\n",
    "    print(\"hi\")\n",
    "    df2_genderblocked[digit] = pd.DataFrame(columns=df2_train[digit].columns)\n",
    "    if digit == 9:\n",
    "        for i in range(330):\n",
    "            df2_genderblocked[2 * digit] = pd.concat([df2_genderblocked[2 * digit], df2_train[i + digit * 660]])\n",
    "        for i in range(330, 659):\n",
    "            df2_genderblocked[2 * digit + 1] = pd.concat([df2_genderblocked[2 * digit + 1], df2_train[i + digit * 660]])\n",
    "    else:\n",
    "        for i in range(330):\n",
    "            df2_genderblocked[2 * digit] = pd.concat([df2_genderblocked[2 * digit], df2_train[i + digit * 660]])\n",
    "        for i in range(330, 660):\n",
    "            df2_genderblocked[2 * digit + 1] = pd.concat([df2_genderblocked[2 * digit + 1], df2_train[i + digit * 660]])"
   ],
   "metadata": {
    "collapsed": false,
    "pycharm": {
     "name": "#%%\n"
    }
   }
  },
  {
   "cell_type": "code",
   "execution_count": 44,
   "outputs": [],
   "source": [
    "time_gmms = []\n",
    "\n",
    "for i in range(10):\n",
    "    gmm = GaussianMixture(n_components=8, covariance_type='diag').fit(df2_blocked[i])\n",
    "    time_gmms.append(gmm)"
   ],
   "metadata": {
    "collapsed": false,
    "pycharm": {
     "name": "#%%\n"
    }
   }
  },
  {
   "cell_type": "code",
   "execution_count": null,
   "outputs": [],
   "source": [
    "male_gmms = []\n",
    "female_gmms = []\n",
    "for i in range(10):\n",
    "    gmm_male = GaussianMixture(n_components=8, covariance_type='diag').fit(df2_genderblocked[2 * i])\n",
    "    gmm_female = GaussianMixture(n_components=8, covariance_type='diag').fit(df2_genderblocked[2 * i + 1])\n",
    "    male_gmms.append(gmm_male)\n",
    "    female_gmms.append(gmm_female)"
   ],
   "metadata": {
    "collapsed": false,
    "pycharm": {
     "name": "#%%\n"
    }
   }
  },
  {
   "cell_type": "code",
   "execution_count": 45,
   "outputs": [],
   "source": [
    "predictions_time = []\n",
    "for i in range(2199):\n",
    "    max_score = -10000\n",
    "    max_GMM = -1\n",
    "    for gmm_num in range(len(time_gmms)):\n",
    "        score = time_gmms[gmm_num].score(df_test_time[i])\n",
    "        if score > max_score:\n",
    "            max_GMM = gmm_num\n",
    "            max_score = score\n",
    "    predictions_time.append(max_GMM)\n"
   ],
   "metadata": {
    "collapsed": false,
    "pycharm": {
     "name": "#%%\n"
    }
   }
  },
  {
   "cell_type": "code",
   "execution_count": 47,
   "outputs": [
    {
     "data": {
      "text/plain": "0.9613460663938154"
     },
     "execution_count": 47,
     "metadata": {},
     "output_type": "execute_result"
    }
   ],
   "source": [
    "correct = 0\n",
    "wrongs = np.zeros(len(predictions_time))\n",
    "wrongs = wrongs - 1\n",
    "for i in range(len(predictions_time)):\n",
    "    if predictions_time[i] == np.floor(i / 220):\n",
    "        correct += 1\n",
    "        wrongs[i] = predictions_time[i]\n",
    "\n",
    "correct / 2199"
   ],
   "metadata": {
    "collapsed": false,
    "pycharm": {
     "name": "#%%\n"
    }
   }
  },
  {
   "cell_type": "code",
   "execution_count": 49,
   "outputs": [
    {
     "data": {
      "text/plain": "<Figure size 432x288 with 2 Axes>",
      "image/png": "[encoded data removed]"
     },
     "metadata": {
      "needs_background": "light"
     },
     "output_type": "display_data"
    }
   ],
   "source": [
    "labels = []\n",
    "for i in range(2199):\n",
    "    labels.append(int(i/220))\n",
    "\n",
    "cm = pd.DataFrame(confusion_matrix(labels, predictions_time))\n",
    "sns.heatmap(cm, annot=True, fmt='g')\n",
    "plt.title('Confusion Matrix for Time-Concious EM GMM Classification')\n",
    "plt.ylabel('True Label')\n",
    "plt.xlabel('Predicted Label')\n",
    "\n",
    "plt.savefig(\"em_confusion_matrix.png\", dpi=300)"
   ],
   "metadata": {
    "collapsed": false,
    "pycharm": {
     "name": "#%%\n"
    }
   }
  }
 ],
 "metadata": {
  "kernelspec": {
   "name": "pycharm-a81ba547",
   "language": "python",
   "display_name": "PyCharm (pythonProject)"
  },
  "language_info": {
   "codemirror_mode": {
    "name": "ipython",
    "version": 2
   },
   "file_extension": ".py",
   "mimetype": "text/x-python",
   "name": "python",
   "nbconvert_exporter": "python",
   "pygments_lexer": "ipython2",
   "version": "2.7.6"
  }
 },
 "nbformat": 4,
 "nbformat_minor": 0
}